{
 "cells": [
  {
   "cell_type": "code",
   "execution_count": 1,
   "metadata": {},
   "outputs": [],
   "source": [
    "#To access python data science libraries and visualise data and render plots in the Jupyter Notebook\n",
    "import os\n",
    "import numpy as np\n",
    "import scipy.stats as stats\n",
    "import pandas as pd\n",
    "import matplotlib.pyplot as plt\n",
    "import seaborn as sn\n",
    "import math\n",
    "import datetime as dt\n",
    "%matplotlib inline"
   ]
  },
  {
   "cell_type": "code",
   "execution_count": 2,
   "metadata": {},
   "outputs": [],
   "source": [
    "#Save the list of all csv files\n",
    "csv1 = pd.read_csv('data1_cleaned.csv')\n",
    "csv2 = pd.read_csv('data2_cleaned.csv')\n",
    "csv3 = pd.read_csv('data3_cleaned.csv')\n",
    "csv4 = pd.read_csv('data4_cleaned.csv')"
   ]
  },
  {
   "cell_type": "code",
   "execution_count": 3,
   "metadata": {},
   "outputs": [],
   "source": [
    "#Merged all files in the list based on matching 'customer id' column\n",
    "csv1_2 = pd.merge(csv1, csv2, on=['customer_id'])\n",
    "csv1_2_3 = pd.merge(csv1_2, csv3, on=['customer_id'])"
   ]
  },
  {
   "cell_type": "code",
   "execution_count": 4,
   "metadata": {},
   "outputs": [],
   "source": [
    "#Export to csv\n",
    "csv1_2_3.to_csv( \"merged.csv\", index=False, encoding='utf-8-sig')"
   ]
  },
  {
   "cell_type": "code",
   "execution_count": 5,
   "metadata": {},
   "outputs": [],
   "source": [
    "#Ascending order\n",
    "df = csv1_2_3.sort_values(by=['customer_id'])"
   ]
  },
  {
   "cell_type": "code",
   "execution_count": 6,
   "metadata": {},
   "outputs": [
    {
     "data": {
      "text/html": [
       "<div>\n",
       "<style scoped>\n",
       "    .dataframe tbody tr th:only-of-type {\n",
       "        vertical-align: middle;\n",
       "    }\n",
       "\n",
       "    .dataframe tbody tr th {\n",
       "        vertical-align: top;\n",
       "    }\n",
       "\n",
       "    .dataframe thead th {\n",
       "        text-align: right;\n",
       "    }\n",
       "</style>\n",
       "<table border=\"1\" class=\"dataframe\">\n",
       "  <thead>\n",
       "    <tr style=\"text-align: right;\">\n",
       "      <th></th>\n",
       "      <th>customer_id</th>\n",
       "      <th>first_name</th>\n",
       "      <th>last_name</th>\n",
       "      <th>gender</th>\n",
       "      <th>past_3_years_bike_related_purchases</th>\n",
       "      <th>dob</th>\n",
       "      <th>job_title</th>\n",
       "      <th>job_industry_category</th>\n",
       "      <th>wealth_segment</th>\n",
       "      <th>deceased_indicator</th>\n",
       "      <th>...</th>\n",
       "      <th>transaction_date</th>\n",
       "      <th>online_order</th>\n",
       "      <th>order_status</th>\n",
       "      <th>brand</th>\n",
       "      <th>product_line</th>\n",
       "      <th>product_class</th>\n",
       "      <th>product_size</th>\n",
       "      <th>list_price</th>\n",
       "      <th>standard_cost</th>\n",
       "      <th>product_first_sold_date</th>\n",
       "    </tr>\n",
       "  </thead>\n",
       "  <tbody>\n",
       "    <tr>\n",
       "      <th>88</th>\n",
       "      <td>1</td>\n",
       "      <td>Laraine</td>\n",
       "      <td>Medendorp</td>\n",
       "      <td>Female</td>\n",
       "      <td>93</td>\n",
       "      <td>1953-10-12</td>\n",
       "      <td>Executive Secretary</td>\n",
       "      <td>Health</td>\n",
       "      <td>Mass Customer</td>\n",
       "      <td>False</td>\n",
       "      <td>...</td>\n",
       "      <td>2017-05-11</td>\n",
       "      <td>1.0</td>\n",
       "      <td>Approved</td>\n",
       "      <td>Trek Bicycles</td>\n",
       "      <td>Road</td>\n",
       "      <td>low</td>\n",
       "      <td>small</td>\n",
       "      <td>1720.70</td>\n",
       "      <td>1531.42</td>\n",
       "      <td>37823.0</td>\n",
       "    </tr>\n",
       "    <tr>\n",
       "      <th>85</th>\n",
       "      <td>1</td>\n",
       "      <td>Laraine</td>\n",
       "      <td>Medendorp</td>\n",
       "      <td>Female</td>\n",
       "      <td>93</td>\n",
       "      <td>1953-10-12</td>\n",
       "      <td>Executive Secretary</td>\n",
       "      <td>Health</td>\n",
       "      <td>Mass Customer</td>\n",
       "      <td>False</td>\n",
       "      <td>...</td>\n",
       "      <td>2017-03-27</td>\n",
       "      <td>0.0</td>\n",
       "      <td>Approved</td>\n",
       "      <td>Norco Bicycles</td>\n",
       "      <td>Mountain</td>\n",
       "      <td>low</td>\n",
       "      <td>small</td>\n",
       "      <td>688.63</td>\n",
       "      <td>612.88</td>\n",
       "      <td>33455.0</td>\n",
       "    </tr>\n",
       "    <tr>\n",
       "      <th>86</th>\n",
       "      <td>1</td>\n",
       "      <td>Laraine</td>\n",
       "      <td>Medendorp</td>\n",
       "      <td>Female</td>\n",
       "      <td>93</td>\n",
       "      <td>1953-10-12</td>\n",
       "      <td>Executive Secretary</td>\n",
       "      <td>Health</td>\n",
       "      <td>Mass Customer</td>\n",
       "      <td>False</td>\n",
       "      <td>...</td>\n",
       "      <td>2017-03-29</td>\n",
       "      <td>1.0</td>\n",
       "      <td>Approved</td>\n",
       "      <td>Giant Bicycles</td>\n",
       "      <td>Standard</td>\n",
       "      <td>high</td>\n",
       "      <td>medium</td>\n",
       "      <td>1274.93</td>\n",
       "      <td>764.96</td>\n",
       "      <td>35378.0</td>\n",
       "    </tr>\n",
       "    <tr>\n",
       "      <th>87</th>\n",
       "      <td>1</td>\n",
       "      <td>Laraine</td>\n",
       "      <td>Medendorp</td>\n",
       "      <td>Female</td>\n",
       "      <td>93</td>\n",
       "      <td>1953-10-12</td>\n",
       "      <td>Executive Secretary</td>\n",
       "      <td>Health</td>\n",
       "      <td>Mass Customer</td>\n",
       "      <td>False</td>\n",
       "      <td>...</td>\n",
       "      <td>2017-04-06</td>\n",
       "      <td>1.0</td>\n",
       "      <td>Approved</td>\n",
       "      <td>Solex</td>\n",
       "      <td>Standard</td>\n",
       "      <td>medium</td>\n",
       "      <td>medium</td>\n",
       "      <td>1577.53</td>\n",
       "      <td>826.51</td>\n",
       "      <td>39526.0</td>\n",
       "    </tr>\n",
       "    <tr>\n",
       "      <th>89</th>\n",
       "      <td>1</td>\n",
       "      <td>Laraine</td>\n",
       "      <td>Medendorp</td>\n",
       "      <td>Female</td>\n",
       "      <td>93</td>\n",
       "      <td>1953-10-12</td>\n",
       "      <td>Executive Secretary</td>\n",
       "      <td>Health</td>\n",
       "      <td>Mass Customer</td>\n",
       "      <td>False</td>\n",
       "      <td>...</td>\n",
       "      <td>2017-05-19</td>\n",
       "      <td>0.0</td>\n",
       "      <td>Approved</td>\n",
       "      <td>Giant Bicycles</td>\n",
       "      <td>Road</td>\n",
       "      <td>medium</td>\n",
       "      <td>medium</td>\n",
       "      <td>1538.99</td>\n",
       "      <td>829.65</td>\n",
       "      <td>33552.0</td>\n",
       "    </tr>\n",
       "    <tr>\n",
       "      <th>...</th>\n",
       "      <td>...</td>\n",
       "      <td>...</td>\n",
       "      <td>...</td>\n",
       "      <td>...</td>\n",
       "      <td>...</td>\n",
       "      <td>...</td>\n",
       "      <td>...</td>\n",
       "      <td>...</td>\n",
       "      <td>...</td>\n",
       "      <td>...</td>\n",
       "      <td>...</td>\n",
       "      <td>...</td>\n",
       "      <td>...</td>\n",
       "      <td>...</td>\n",
       "      <td>...</td>\n",
       "      <td>...</td>\n",
       "      <td>...</td>\n",
       "      <td>...</td>\n",
       "      <td>...</td>\n",
       "      <td>...</td>\n",
       "      <td>...</td>\n",
       "    </tr>\n",
       "    <tr>\n",
       "      <th>4636</th>\n",
       "      <td>3500</td>\n",
       "      <td>Josy</td>\n",
       "      <td>Fleeman</td>\n",
       "      <td>Female</td>\n",
       "      <td>71</td>\n",
       "      <td>1967-07-21</td>\n",
       "      <td>Administrative Officer</td>\n",
       "      <td>Entertainment</td>\n",
       "      <td>Affluent Customer</td>\n",
       "      <td>False</td>\n",
       "      <td>...</td>\n",
       "      <td>2017-03-14</td>\n",
       "      <td>1.0</td>\n",
       "      <td>Approved</td>\n",
       "      <td>OHM Cycles</td>\n",
       "      <td>Standard</td>\n",
       "      <td>high</td>\n",
       "      <td>medium</td>\n",
       "      <td>1458.17</td>\n",
       "      <td>874.90</td>\n",
       "      <td>38750.0</td>\n",
       "    </tr>\n",
       "    <tr>\n",
       "      <th>4635</th>\n",
       "      <td>3500</td>\n",
       "      <td>Josy</td>\n",
       "      <td>Fleeman</td>\n",
       "      <td>Female</td>\n",
       "      <td>71</td>\n",
       "      <td>1967-07-21</td>\n",
       "      <td>Administrative Officer</td>\n",
       "      <td>Entertainment</td>\n",
       "      <td>Affluent Customer</td>\n",
       "      <td>False</td>\n",
       "      <td>...</td>\n",
       "      <td>2017-02-16</td>\n",
       "      <td>0.0</td>\n",
       "      <td>Approved</td>\n",
       "      <td>WeareA2B</td>\n",
       "      <td>Standard</td>\n",
       "      <td>medium</td>\n",
       "      <td>medium</td>\n",
       "      <td>1228.07</td>\n",
       "      <td>400.91</td>\n",
       "      <td>36668.0</td>\n",
       "    </tr>\n",
       "    <tr>\n",
       "      <th>4634</th>\n",
       "      <td>3500</td>\n",
       "      <td>Josy</td>\n",
       "      <td>Fleeman</td>\n",
       "      <td>Female</td>\n",
       "      <td>71</td>\n",
       "      <td>1967-07-21</td>\n",
       "      <td>Administrative Officer</td>\n",
       "      <td>Entertainment</td>\n",
       "      <td>Affluent Customer</td>\n",
       "      <td>False</td>\n",
       "      <td>...</td>\n",
       "      <td>2017-01-11</td>\n",
       "      <td>0.0</td>\n",
       "      <td>Approved</td>\n",
       "      <td>WeareA2B</td>\n",
       "      <td>Standard</td>\n",
       "      <td>medium</td>\n",
       "      <td>medium</td>\n",
       "      <td>60.34</td>\n",
       "      <td>45.26</td>\n",
       "      <td>34165.0</td>\n",
       "    </tr>\n",
       "    <tr>\n",
       "      <th>4633</th>\n",
       "      <td>3500</td>\n",
       "      <td>Josy</td>\n",
       "      <td>Fleeman</td>\n",
       "      <td>Female</td>\n",
       "      <td>71</td>\n",
       "      <td>1967-07-21</td>\n",
       "      <td>Administrative Officer</td>\n",
       "      <td>Entertainment</td>\n",
       "      <td>Affluent Customer</td>\n",
       "      <td>False</td>\n",
       "      <td>...</td>\n",
       "      <td>2017-01-09</td>\n",
       "      <td>1.0</td>\n",
       "      <td>Approved</td>\n",
       "      <td>Giant Bicycles</td>\n",
       "      <td>Road</td>\n",
       "      <td>medium</td>\n",
       "      <td>medium</td>\n",
       "      <td>792.90</td>\n",
       "      <td>594.68</td>\n",
       "      <td>33879.0</td>\n",
       "    </tr>\n",
       "    <tr>\n",
       "      <th>4637</th>\n",
       "      <td>3500</td>\n",
       "      <td>Josy</td>\n",
       "      <td>Fleeman</td>\n",
       "      <td>Female</td>\n",
       "      <td>71</td>\n",
       "      <td>1967-07-21</td>\n",
       "      <td>Administrative Officer</td>\n",
       "      <td>Entertainment</td>\n",
       "      <td>Affluent Customer</td>\n",
       "      <td>False</td>\n",
       "      <td>...</td>\n",
       "      <td>2017-04-25</td>\n",
       "      <td>0.0</td>\n",
       "      <td>Approved</td>\n",
       "      <td>Solex</td>\n",
       "      <td>Standard</td>\n",
       "      <td>medium</td>\n",
       "      <td>medium</td>\n",
       "      <td>71.49</td>\n",
       "      <td>53.62</td>\n",
       "      <td>41245.0</td>\n",
       "    </tr>\n",
       "  </tbody>\n",
       "</table>\n",
       "<p>19968 rows × 29 columns</p>\n",
       "</div>"
      ],
      "text/plain": [
       "      customer_id first_name  last_name  gender  \\\n",
       "88              1    Laraine  Medendorp  Female   \n",
       "85              1    Laraine  Medendorp  Female   \n",
       "86              1    Laraine  Medendorp  Female   \n",
       "87              1    Laraine  Medendorp  Female   \n",
       "89              1    Laraine  Medendorp  Female   \n",
       "...           ...        ...        ...     ...   \n",
       "4636         3500       Josy    Fleeman  Female   \n",
       "4635         3500       Josy    Fleeman  Female   \n",
       "4634         3500       Josy    Fleeman  Female   \n",
       "4633         3500       Josy    Fleeman  Female   \n",
       "4637         3500       Josy    Fleeman  Female   \n",
       "\n",
       "      past_3_years_bike_related_purchases         dob               job_title  \\\n",
       "88                                     93  1953-10-12     Executive Secretary   \n",
       "85                                     93  1953-10-12     Executive Secretary   \n",
       "86                                     93  1953-10-12     Executive Secretary   \n",
       "87                                     93  1953-10-12     Executive Secretary   \n",
       "89                                     93  1953-10-12     Executive Secretary   \n",
       "...                                   ...         ...                     ...   \n",
       "4636                                   71  1967-07-21  Administrative Officer   \n",
       "4635                                   71  1967-07-21  Administrative Officer   \n",
       "4634                                   71  1967-07-21  Administrative Officer   \n",
       "4633                                   71  1967-07-21  Administrative Officer   \n",
       "4637                                   71  1967-07-21  Administrative Officer   \n",
       "\n",
       "     job_industry_category     wealth_segment  deceased_indicator  ...  \\\n",
       "88                  Health      Mass Customer               False  ...   \n",
       "85                  Health      Mass Customer               False  ...   \n",
       "86                  Health      Mass Customer               False  ...   \n",
       "87                  Health      Mass Customer               False  ...   \n",
       "89                  Health      Mass Customer               False  ...   \n",
       "...                    ...                ...                 ...  ...   \n",
       "4636         Entertainment  Affluent Customer               False  ...   \n",
       "4635         Entertainment  Affluent Customer               False  ...   \n",
       "4634         Entertainment  Affluent Customer               False  ...   \n",
       "4633         Entertainment  Affluent Customer               False  ...   \n",
       "4637         Entertainment  Affluent Customer               False  ...   \n",
       "\n",
       "      transaction_date  online_order order_status           brand  \\\n",
       "88          2017-05-11           1.0     Approved   Trek Bicycles   \n",
       "85          2017-03-27           0.0     Approved  Norco Bicycles   \n",
       "86          2017-03-29           1.0     Approved  Giant Bicycles   \n",
       "87          2017-04-06           1.0     Approved           Solex   \n",
       "89          2017-05-19           0.0     Approved  Giant Bicycles   \n",
       "...                ...           ...          ...             ...   \n",
       "4636        2017-03-14           1.0     Approved      OHM Cycles   \n",
       "4635        2017-02-16           0.0     Approved        WeareA2B   \n",
       "4634        2017-01-11           0.0     Approved        WeareA2B   \n",
       "4633        2017-01-09           1.0     Approved  Giant Bicycles   \n",
       "4637        2017-04-25           0.0     Approved           Solex   \n",
       "\n",
       "     product_line product_class  product_size  list_price  standard_cost  \\\n",
       "88           Road           low         small     1720.70        1531.42   \n",
       "85       Mountain           low         small      688.63         612.88   \n",
       "86       Standard          high        medium     1274.93         764.96   \n",
       "87       Standard        medium        medium     1577.53         826.51   \n",
       "89           Road        medium        medium     1538.99         829.65   \n",
       "...           ...           ...           ...         ...            ...   \n",
       "4636     Standard          high        medium     1458.17         874.90   \n",
       "4635     Standard        medium        medium     1228.07         400.91   \n",
       "4634     Standard        medium        medium       60.34          45.26   \n",
       "4633         Road        medium        medium      792.90         594.68   \n",
       "4637     Standard        medium        medium       71.49          53.62   \n",
       "\n",
       "     product_first_sold_date  \n",
       "88                   37823.0  \n",
       "85                   33455.0  \n",
       "86                   35378.0  \n",
       "87                   39526.0  \n",
       "89                   33552.0  \n",
       "...                      ...  \n",
       "4636                 38750.0  \n",
       "4635                 36668.0  \n",
       "4634                 34165.0  \n",
       "4633                 33879.0  \n",
       "4637                 41245.0  \n",
       "\n",
       "[19968 rows x 29 columns]"
      ]
     },
     "execution_count": 6,
     "metadata": {},
     "output_type": "execute_result"
    }
   ],
   "source": [
    "df"
   ]
  },
  {
   "cell_type": "code",
   "execution_count": 7,
   "metadata": {},
   "outputs": [
    {
     "name": "stdout",
     "output_type": "stream",
     "text": [
      "<class 'pandas.core.frame.DataFrame'>\n",
      "Int64Index: 19968 entries, 88 to 4637\n",
      "Data columns (total 29 columns):\n",
      " #   Column                               Non-Null Count  Dtype  \n",
      "---  ------                               --------------  -----  \n",
      " 0   customer_id                          19968 non-null  int64  \n",
      " 1   first_name                           19968 non-null  object \n",
      " 2   last_name                            19326 non-null  object \n",
      " 3   gender                               19968 non-null  object \n",
      " 4   past_3_years_bike_related_purchases  19968 non-null  int64  \n",
      " 5   dob                                  19522 non-null  object \n",
      " 6   job_title                            19968 non-null  object \n",
      " 7   job_industry_category                19968 non-null  object \n",
      " 8   wealth_segment                       19968 non-null  object \n",
      " 9   deceased_indicator                   19968 non-null  bool   \n",
      " 10  owns_car                             19968 non-null  bool   \n",
      " 11  tenure                               19968 non-null  float64\n",
      " 12  address                              19968 non-null  object \n",
      " 13  postcode                             19968 non-null  int64  \n",
      " 14  state                                19968 non-null  object \n",
      " 15  country                              19968 non-null  object \n",
      " 16  property_valuation                   19968 non-null  int64  \n",
      " 17  transaction_id                       19968 non-null  int64  \n",
      " 18  product_id                           19968 non-null  int64  \n",
      " 19  transaction_date                     19968 non-null  object \n",
      " 20  online_order                         19968 non-null  float64\n",
      " 21  order_status                         19968 non-null  object \n",
      " 22  brand                                19968 non-null  object \n",
      " 23  product_line                         19968 non-null  object \n",
      " 24  product_class                        19968 non-null  object \n",
      " 25  product_size                         19968 non-null  object \n",
      " 26  list_price                           19968 non-null  float64\n",
      " 27  standard_cost                        19794 non-null  float64\n",
      " 28  product_first_sold_date              19968 non-null  float64\n",
      "dtypes: bool(2), float64(5), int64(6), object(16)\n",
      "memory usage: 4.3+ MB\n"
     ]
    }
   ],
   "source": [
    "df.info()"
   ]
  },
  {
   "cell_type": "code",
   "execution_count": 8,
   "metadata": {},
   "outputs": [
    {
     "data": {
      "text/html": [
       "<div>\n",
       "<style scoped>\n",
       "    .dataframe tbody tr th:only-of-type {\n",
       "        vertical-align: middle;\n",
       "    }\n",
       "\n",
       "    .dataframe tbody tr th {\n",
       "        vertical-align: top;\n",
       "    }\n",
       "\n",
       "    .dataframe thead th {\n",
       "        text-align: right;\n",
       "    }\n",
       "</style>\n",
       "<table border=\"1\" class=\"dataframe\">\n",
       "  <thead>\n",
       "    <tr style=\"text-align: right;\">\n",
       "      <th></th>\n",
       "      <th>customer_id</th>\n",
       "      <th>past_3_years_bike_related_purchases</th>\n",
       "      <th>tenure</th>\n",
       "      <th>postcode</th>\n",
       "      <th>property_valuation</th>\n",
       "      <th>transaction_id</th>\n",
       "      <th>product_id</th>\n",
       "      <th>online_order</th>\n",
       "      <th>list_price</th>\n",
       "      <th>standard_cost</th>\n",
       "      <th>product_first_sold_date</th>\n",
       "    </tr>\n",
       "  </thead>\n",
       "  <tbody>\n",
       "    <tr>\n",
       "      <th>count</th>\n",
       "      <td>19968.000000</td>\n",
       "      <td>19968.000000</td>\n",
       "      <td>19968.000000</td>\n",
       "      <td>19968.000000</td>\n",
       "      <td>19968.000000</td>\n",
       "      <td>19968.000000</td>\n",
       "      <td>19968.000000</td>\n",
       "      <td>19968.000000</td>\n",
       "      <td>19968.000000</td>\n",
       "      <td>19794.000000</td>\n",
       "      <td>19968.000000</td>\n",
       "    </tr>\n",
       "    <tr>\n",
       "      <th>mean</th>\n",
       "      <td>1740.254307</td>\n",
       "      <td>48.757412</td>\n",
       "      <td>10.689052</td>\n",
       "      <td>2987.623347</td>\n",
       "      <td>7.516376</td>\n",
       "      <td>9997.846504</td>\n",
       "      <td>45.365986</td>\n",
       "      <td>0.501102</td>\n",
       "      <td>1107.780004</td>\n",
       "      <td>556.082756</td>\n",
       "      <td>38198.751474</td>\n",
       "    </tr>\n",
       "    <tr>\n",
       "      <th>std</th>\n",
       "      <td>1009.819066</td>\n",
       "      <td>28.611359</td>\n",
       "      <td>5.611093</td>\n",
       "      <td>851.306647</td>\n",
       "      <td>2.824783</td>\n",
       "      <td>5773.929973</td>\n",
       "      <td>30.750115</td>\n",
       "      <td>0.500011</td>\n",
       "      <td>582.852548</td>\n",
       "      <td>405.798188</td>\n",
       "      <td>2860.784340</td>\n",
       "    </tr>\n",
       "    <tr>\n",
       "      <th>min</th>\n",
       "      <td>1.000000</td>\n",
       "      <td>0.000000</td>\n",
       "      <td>1.000000</td>\n",
       "      <td>2000.000000</td>\n",
       "      <td>1.000000</td>\n",
       "      <td>1.000000</td>\n",
       "      <td>0.000000</td>\n",
       "      <td>0.000000</td>\n",
       "      <td>12.010000</td>\n",
       "      <td>7.210000</td>\n",
       "      <td>33259.000000</td>\n",
       "    </tr>\n",
       "    <tr>\n",
       "      <th>25%</th>\n",
       "      <td>861.750000</td>\n",
       "      <td>24.000000</td>\n",
       "      <td>6.000000</td>\n",
       "      <td>2200.000000</td>\n",
       "      <td>6.000000</td>\n",
       "      <td>4997.750000</td>\n",
       "      <td>18.000000</td>\n",
       "      <td>0.000000</td>\n",
       "      <td>575.270000</td>\n",
       "      <td>215.140000</td>\n",
       "      <td>35667.000000</td>\n",
       "    </tr>\n",
       "    <tr>\n",
       "      <th>50%</th>\n",
       "      <td>1739.500000</td>\n",
       "      <td>48.000000</td>\n",
       "      <td>11.000000</td>\n",
       "      <td>2767.000000</td>\n",
       "      <td>8.000000</td>\n",
       "      <td>9996.500000</td>\n",
       "      <td>44.000000</td>\n",
       "      <td>1.000000</td>\n",
       "      <td>1163.890000</td>\n",
       "      <td>507.580000</td>\n",
       "      <td>38206.000000</td>\n",
       "    </tr>\n",
       "    <tr>\n",
       "      <th>75%</th>\n",
       "      <td>2614.250000</td>\n",
       "      <td>73.000000</td>\n",
       "      <td>15.000000</td>\n",
       "      <td>3754.000000</td>\n",
       "      <td>10.000000</td>\n",
       "      <td>14996.250000</td>\n",
       "      <td>72.000000</td>\n",
       "      <td>1.000000</td>\n",
       "      <td>1635.300000</td>\n",
       "      <td>795.100000</td>\n",
       "      <td>40672.000000</td>\n",
       "    </tr>\n",
       "    <tr>\n",
       "      <th>max</th>\n",
       "      <td>3500.000000</td>\n",
       "      <td>99.000000</td>\n",
       "      <td>22.000000</td>\n",
       "      <td>4883.000000</td>\n",
       "      <td>12.000000</td>\n",
       "      <td>20000.000000</td>\n",
       "      <td>100.000000</td>\n",
       "      <td>1.000000</td>\n",
       "      <td>2091.470000</td>\n",
       "      <td>1759.850000</td>\n",
       "      <td>42710.000000</td>\n",
       "    </tr>\n",
       "  </tbody>\n",
       "</table>\n",
       "</div>"
      ],
      "text/plain": [
       "        customer_id  past_3_years_bike_related_purchases        tenure  \\\n",
       "count  19968.000000                         19968.000000  19968.000000   \n",
       "mean    1740.254307                            48.757412     10.689052   \n",
       "std     1009.819066                            28.611359      5.611093   \n",
       "min        1.000000                             0.000000      1.000000   \n",
       "25%      861.750000                            24.000000      6.000000   \n",
       "50%     1739.500000                            48.000000     11.000000   \n",
       "75%     2614.250000                            73.000000     15.000000   \n",
       "max     3500.000000                            99.000000     22.000000   \n",
       "\n",
       "           postcode  property_valuation  transaction_id    product_id  \\\n",
       "count  19968.000000        19968.000000    19968.000000  19968.000000   \n",
       "mean    2987.623347            7.516376     9997.846504     45.365986   \n",
       "std      851.306647            2.824783     5773.929973     30.750115   \n",
       "min     2000.000000            1.000000        1.000000      0.000000   \n",
       "25%     2200.000000            6.000000     4997.750000     18.000000   \n",
       "50%     2767.000000            8.000000     9996.500000     44.000000   \n",
       "75%     3754.000000           10.000000    14996.250000     72.000000   \n",
       "max     4883.000000           12.000000    20000.000000    100.000000   \n",
       "\n",
       "       online_order    list_price  standard_cost  product_first_sold_date  \n",
       "count  19968.000000  19968.000000   19794.000000             19968.000000  \n",
       "mean       0.501102   1107.780004     556.082756             38198.751474  \n",
       "std        0.500011    582.852548     405.798188              2860.784340  \n",
       "min        0.000000     12.010000       7.210000             33259.000000  \n",
       "25%        0.000000    575.270000     215.140000             35667.000000  \n",
       "50%        1.000000   1163.890000     507.580000             38206.000000  \n",
       "75%        1.000000   1635.300000     795.100000             40672.000000  \n",
       "max        1.000000   2091.470000    1759.850000             42710.000000  "
      ]
     },
     "execution_count": 8,
     "metadata": {},
     "output_type": "execute_result"
    }
   ],
   "source": [
    "df.describe()"
   ]
  },
  {
   "cell_type": "code",
   "execution_count": 9,
   "metadata": {},
   "outputs": [
    {
     "data": {
      "text/plain": [
       "0"
      ]
     },
     "execution_count": 9,
     "metadata": {},
     "output_type": "execute_result"
    }
   ],
   "source": [
    "df.duplicated().sum()"
   ]
  },
  {
   "cell_type": "code",
   "execution_count": 10,
   "metadata": {},
   "outputs": [
    {
     "data": {
      "text/plain": [
       "customer_id                              0\n",
       "first_name                               0\n",
       "last_name                              642\n",
       "gender                                   0\n",
       "past_3_years_bike_related_purchases      0\n",
       "dob                                    446\n",
       "job_title                                0\n",
       "job_industry_category                    0\n",
       "wealth_segment                           0\n",
       "deceased_indicator                       0\n",
       "owns_car                                 0\n",
       "tenure                                   0\n",
       "address                                  0\n",
       "postcode                                 0\n",
       "state                                    0\n",
       "country                                  0\n",
       "property_valuation                       0\n",
       "transaction_id                           0\n",
       "product_id                               0\n",
       "transaction_date                         0\n",
       "online_order                             0\n",
       "order_status                             0\n",
       "brand                                    0\n",
       "product_line                             0\n",
       "product_class                            0\n",
       "product_size                             0\n",
       "list_price                               0\n",
       "standard_cost                          174\n",
       "product_first_sold_date                  0\n",
       "dtype: int64"
      ]
     },
     "execution_count": 10,
     "metadata": {},
     "output_type": "execute_result"
    }
   ],
   "source": [
    "df.isnull().sum()"
   ]
  },
  {
   "cell_type": "code",
   "execution_count": 11,
   "metadata": {},
   "outputs": [],
   "source": [
    "df['last_name'].fillna(method='ffill', inplace = True)"
   ]
  },
  {
   "cell_type": "code",
   "execution_count": 12,
   "metadata": {},
   "outputs": [],
   "source": [
    "df['dob'].fillna(method='ffill', inplace = True)"
   ]
  },
  {
   "cell_type": "code",
   "execution_count": 13,
   "metadata": {},
   "outputs": [
    {
     "data": {
      "text/plain": [
       "0    388.92\n",
       "dtype: float64"
      ]
     },
     "execution_count": 13,
     "metadata": {},
     "output_type": "execute_result"
    }
   ],
   "source": [
    "df.standard_cost.mode()"
   ]
  },
  {
   "cell_type": "code",
   "execution_count": 14,
   "metadata": {},
   "outputs": [
    {
     "data": {
      "text/plain": [
       "556.082755885636"
      ]
     },
     "execution_count": 14,
     "metadata": {},
     "output_type": "execute_result"
    }
   ],
   "source": [
    "df.standard_cost.mean()"
   ]
  },
  {
   "cell_type": "code",
   "execution_count": 15,
   "metadata": {},
   "outputs": [],
   "source": [
    "df['standard_cost'].fillna(df['standard_cost'].mean(), inplace = True)"
   ]
  },
  {
   "cell_type": "code",
   "execution_count": 16,
   "metadata": {},
   "outputs": [
    {
     "data": {
      "text/plain": [
       "customer_id                            0\n",
       "first_name                             0\n",
       "last_name                              0\n",
       "gender                                 0\n",
       "past_3_years_bike_related_purchases    0\n",
       "dob                                    0\n",
       "job_title                              0\n",
       "job_industry_category                  0\n",
       "wealth_segment                         0\n",
       "deceased_indicator                     0\n",
       "owns_car                               0\n",
       "tenure                                 0\n",
       "address                                0\n",
       "postcode                               0\n",
       "state                                  0\n",
       "country                                0\n",
       "property_valuation                     0\n",
       "transaction_id                         0\n",
       "product_id                             0\n",
       "transaction_date                       0\n",
       "online_order                           0\n",
       "order_status                           0\n",
       "brand                                  0\n",
       "product_line                           0\n",
       "product_class                          0\n",
       "product_size                           0\n",
       "list_price                             0\n",
       "standard_cost                          0\n",
       "product_first_sold_date                0\n",
       "dtype: int64"
      ]
     },
     "execution_count": 16,
     "metadata": {},
     "output_type": "execute_result"
    }
   ],
   "source": [
    "df.isna().sum()"
   ]
  },
  {
   "cell_type": "code",
   "execution_count": 17,
   "metadata": {},
   "outputs": [],
   "source": [
    "df['dob'] = df['dob'].apply(pd.to_datetime)"
   ]
  },
  {
   "cell_type": "code",
   "execution_count": 18,
   "metadata": {},
   "outputs": [
    {
     "data": {
      "text/plain": [
       "customer_id                                     int64\n",
       "first_name                                     object\n",
       "last_name                                      object\n",
       "gender                                         object\n",
       "past_3_years_bike_related_purchases             int64\n",
       "dob                                    datetime64[ns]\n",
       "job_title                                      object\n",
       "job_industry_category                          object\n",
       "wealth_segment                                 object\n",
       "deceased_indicator                               bool\n",
       "owns_car                                         bool\n",
       "tenure                                        float64\n",
       "address                                        object\n",
       "postcode                                        int64\n",
       "state                                          object\n",
       "country                                        object\n",
       "property_valuation                              int64\n",
       "transaction_id                                  int64\n",
       "product_id                                      int64\n",
       "transaction_date                               object\n",
       "online_order                                  float64\n",
       "order_status                                   object\n",
       "brand                                          object\n",
       "product_line                                   object\n",
       "product_class                                  object\n",
       "product_size                                   object\n",
       "list_price                                    float64\n",
       "standard_cost                                 float64\n",
       "product_first_sold_date                       float64\n",
       "dtype: object"
      ]
     },
     "execution_count": 18,
     "metadata": {},
     "output_type": "execute_result"
    }
   ],
   "source": [
    "df.dtypes"
   ]
  },
  {
   "cell_type": "code",
   "execution_count": 19,
   "metadata": {},
   "outputs": [],
   "source": [
    "ref_date = dt.datetime.now()\n",
    "df['Age'] = df['dob'].apply(lambda x: len(pd.date_range(start = x, end = ref_date, freq = 'Y')))"
   ]
  },
  {
   "cell_type": "code",
   "execution_count": 20,
   "metadata": {},
   "outputs": [],
   "source": [
    "df = df[df.Age < 100]"
   ]
  },
  {
   "cell_type": "code",
   "execution_count": 21,
   "metadata": {},
   "outputs": [
    {
     "name": "stderr",
     "output_type": "stream",
     "text": [
      "/Users/mankityip/anaconda3/lib/python3.7/site-packages/ipykernel_launcher.py:1: SettingWithCopyWarning: \n",
      "A value is trying to be set on a copy of a slice from a DataFrame.\n",
      "Try using .loc[row_indexer,col_indexer] = value instead\n",
      "\n",
      "See the caveats in the documentation: https://pandas.pydata.org/pandas-docs/stable/user_guide/indexing.html#returning-a-view-versus-a-copy\n",
      "  \"\"\"Entry point for launching an IPython kernel.\n"
     ]
    }
   ],
   "source": [
    "df['transaction_month'] = pd.DatetimeIndex(df['dob']).month"
   ]
  },
  {
   "cell_type": "code",
   "execution_count": 22,
   "metadata": {},
   "outputs": [
    {
     "name": "stderr",
     "output_type": "stream",
     "text": [
      "/Users/mankityip/anaconda3/lib/python3.7/site-packages/ipykernel_launcher.py:1: SettingWithCopyWarning: \n",
      "A value is trying to be set on a copy of a slice from a DataFrame.\n",
      "Try using .loc[row_indexer,col_indexer] = value instead\n",
      "\n",
      "See the caveats in the documentation: https://pandas.pydata.org/pandas-docs/stable/user_guide/indexing.html#returning-a-view-versus-a-copy\n",
      "  \"\"\"Entry point for launching an IPython kernel.\n"
     ]
    }
   ],
   "source": [
    "df['profit'] = df['list_price'] - df['standard_cost']"
   ]
  },
  {
   "cell_type": "code",
   "execution_count": 23,
   "metadata": {},
   "outputs": [
    {
     "data": {
      "text/html": [
       "<div>\n",
       "<style scoped>\n",
       "    .dataframe tbody tr th:only-of-type {\n",
       "        vertical-align: middle;\n",
       "    }\n",
       "\n",
       "    .dataframe tbody tr th {\n",
       "        vertical-align: top;\n",
       "    }\n",
       "\n",
       "    .dataframe thead th {\n",
       "        text-align: right;\n",
       "    }\n",
       "</style>\n",
       "<table border=\"1\" class=\"dataframe\">\n",
       "  <thead>\n",
       "    <tr style=\"text-align: right;\">\n",
       "      <th></th>\n",
       "      <th>customer_id</th>\n",
       "      <th>first_name</th>\n",
       "      <th>last_name</th>\n",
       "      <th>gender</th>\n",
       "      <th>past_3_years_bike_related_purchases</th>\n",
       "      <th>dob</th>\n",
       "      <th>job_title</th>\n",
       "      <th>job_industry_category</th>\n",
       "      <th>wealth_segment</th>\n",
       "      <th>deceased_indicator</th>\n",
       "      <th>...</th>\n",
       "      <th>brand</th>\n",
       "      <th>product_line</th>\n",
       "      <th>product_class</th>\n",
       "      <th>product_size</th>\n",
       "      <th>list_price</th>\n",
       "      <th>standard_cost</th>\n",
       "      <th>product_first_sold_date</th>\n",
       "      <th>Age</th>\n",
       "      <th>transaction_month</th>\n",
       "      <th>profit</th>\n",
       "    </tr>\n",
       "  </thead>\n",
       "  <tbody>\n",
       "    <tr>\n",
       "      <th>88</th>\n",
       "      <td>1</td>\n",
       "      <td>Laraine</td>\n",
       "      <td>Medendorp</td>\n",
       "      <td>Female</td>\n",
       "      <td>93</td>\n",
       "      <td>1953-10-12</td>\n",
       "      <td>Executive Secretary</td>\n",
       "      <td>Health</td>\n",
       "      <td>Mass Customer</td>\n",
       "      <td>False</td>\n",
       "      <td>...</td>\n",
       "      <td>Trek Bicycles</td>\n",
       "      <td>Road</td>\n",
       "      <td>low</td>\n",
       "      <td>small</td>\n",
       "      <td>1720.70</td>\n",
       "      <td>1531.42</td>\n",
       "      <td>37823.0</td>\n",
       "      <td>67</td>\n",
       "      <td>10</td>\n",
       "      <td>189.28</td>\n",
       "    </tr>\n",
       "    <tr>\n",
       "      <th>85</th>\n",
       "      <td>1</td>\n",
       "      <td>Laraine</td>\n",
       "      <td>Medendorp</td>\n",
       "      <td>Female</td>\n",
       "      <td>93</td>\n",
       "      <td>1953-10-12</td>\n",
       "      <td>Executive Secretary</td>\n",
       "      <td>Health</td>\n",
       "      <td>Mass Customer</td>\n",
       "      <td>False</td>\n",
       "      <td>...</td>\n",
       "      <td>Norco Bicycles</td>\n",
       "      <td>Mountain</td>\n",
       "      <td>low</td>\n",
       "      <td>small</td>\n",
       "      <td>688.63</td>\n",
       "      <td>612.88</td>\n",
       "      <td>33455.0</td>\n",
       "      <td>67</td>\n",
       "      <td>10</td>\n",
       "      <td>75.75</td>\n",
       "    </tr>\n",
       "    <tr>\n",
       "      <th>86</th>\n",
       "      <td>1</td>\n",
       "      <td>Laraine</td>\n",
       "      <td>Medendorp</td>\n",
       "      <td>Female</td>\n",
       "      <td>93</td>\n",
       "      <td>1953-10-12</td>\n",
       "      <td>Executive Secretary</td>\n",
       "      <td>Health</td>\n",
       "      <td>Mass Customer</td>\n",
       "      <td>False</td>\n",
       "      <td>...</td>\n",
       "      <td>Giant Bicycles</td>\n",
       "      <td>Standard</td>\n",
       "      <td>high</td>\n",
       "      <td>medium</td>\n",
       "      <td>1274.93</td>\n",
       "      <td>764.96</td>\n",
       "      <td>35378.0</td>\n",
       "      <td>67</td>\n",
       "      <td>10</td>\n",
       "      <td>509.97</td>\n",
       "    </tr>\n",
       "    <tr>\n",
       "      <th>87</th>\n",
       "      <td>1</td>\n",
       "      <td>Laraine</td>\n",
       "      <td>Medendorp</td>\n",
       "      <td>Female</td>\n",
       "      <td>93</td>\n",
       "      <td>1953-10-12</td>\n",
       "      <td>Executive Secretary</td>\n",
       "      <td>Health</td>\n",
       "      <td>Mass Customer</td>\n",
       "      <td>False</td>\n",
       "      <td>...</td>\n",
       "      <td>Solex</td>\n",
       "      <td>Standard</td>\n",
       "      <td>medium</td>\n",
       "      <td>medium</td>\n",
       "      <td>1577.53</td>\n",
       "      <td>826.51</td>\n",
       "      <td>39526.0</td>\n",
       "      <td>67</td>\n",
       "      <td>10</td>\n",
       "      <td>751.02</td>\n",
       "    </tr>\n",
       "    <tr>\n",
       "      <th>89</th>\n",
       "      <td>1</td>\n",
       "      <td>Laraine</td>\n",
       "      <td>Medendorp</td>\n",
       "      <td>Female</td>\n",
       "      <td>93</td>\n",
       "      <td>1953-10-12</td>\n",
       "      <td>Executive Secretary</td>\n",
       "      <td>Health</td>\n",
       "      <td>Mass Customer</td>\n",
       "      <td>False</td>\n",
       "      <td>...</td>\n",
       "      <td>Giant Bicycles</td>\n",
       "      <td>Road</td>\n",
       "      <td>medium</td>\n",
       "      <td>medium</td>\n",
       "      <td>1538.99</td>\n",
       "      <td>829.65</td>\n",
       "      <td>33552.0</td>\n",
       "      <td>67</td>\n",
       "      <td>10</td>\n",
       "      <td>709.34</td>\n",
       "    </tr>\n",
       "  </tbody>\n",
       "</table>\n",
       "<p>5 rows × 32 columns</p>\n",
       "</div>"
      ],
      "text/plain": [
       "    customer_id first_name  last_name  gender  \\\n",
       "88            1    Laraine  Medendorp  Female   \n",
       "85            1    Laraine  Medendorp  Female   \n",
       "86            1    Laraine  Medendorp  Female   \n",
       "87            1    Laraine  Medendorp  Female   \n",
       "89            1    Laraine  Medendorp  Female   \n",
       "\n",
       "    past_3_years_bike_related_purchases        dob            job_title  \\\n",
       "88                                   93 1953-10-12  Executive Secretary   \n",
       "85                                   93 1953-10-12  Executive Secretary   \n",
       "86                                   93 1953-10-12  Executive Secretary   \n",
       "87                                   93 1953-10-12  Executive Secretary   \n",
       "89                                   93 1953-10-12  Executive Secretary   \n",
       "\n",
       "   job_industry_category wealth_segment  deceased_indicator  ...  \\\n",
       "88                Health  Mass Customer               False  ...   \n",
       "85                Health  Mass Customer               False  ...   \n",
       "86                Health  Mass Customer               False  ...   \n",
       "87                Health  Mass Customer               False  ...   \n",
       "89                Health  Mass Customer               False  ...   \n",
       "\n",
       "             brand  product_line product_class  product_size list_price  \\\n",
       "88   Trek Bicycles          Road           low         small    1720.70   \n",
       "85  Norco Bicycles      Mountain           low         small     688.63   \n",
       "86  Giant Bicycles      Standard          high        medium    1274.93   \n",
       "87           Solex      Standard        medium        medium    1577.53   \n",
       "89  Giant Bicycles          Road        medium        medium    1538.99   \n",
       "\n",
       "   standard_cost  product_first_sold_date  Age  transaction_month  profit  \n",
       "88       1531.42                  37823.0   67                 10  189.28  \n",
       "85        612.88                  33455.0   67                 10   75.75  \n",
       "86        764.96                  35378.0   67                 10  509.97  \n",
       "87        826.51                  39526.0   67                 10  751.02  \n",
       "89        829.65                  33552.0   67                 10  709.34  \n",
       "\n",
       "[5 rows x 32 columns]"
      ]
     },
     "execution_count": 23,
     "metadata": {},
     "output_type": "execute_result"
    }
   ],
   "source": [
    "df.head()"
   ]
  },
  {
   "cell_type": "code",
   "execution_count": 24,
   "metadata": {},
   "outputs": [
    {
     "data": {
      "text/html": [
       "<div>\n",
       "<style scoped>\n",
       "    .dataframe tbody tr th:only-of-type {\n",
       "        vertical-align: middle;\n",
       "    }\n",
       "\n",
       "    .dataframe tbody tr th {\n",
       "        vertical-align: top;\n",
       "    }\n",
       "\n",
       "    .dataframe thead th {\n",
       "        text-align: right;\n",
       "    }\n",
       "</style>\n",
       "<table border=\"1\" class=\"dataframe\">\n",
       "  <thead>\n",
       "    <tr style=\"text-align: right;\">\n",
       "      <th></th>\n",
       "      <th>customer_id</th>\n",
       "      <th>first_name</th>\n",
       "      <th>last_name</th>\n",
       "      <th>gender</th>\n",
       "      <th>past_3_years_bike_related_purchases</th>\n",
       "      <th>dob</th>\n",
       "      <th>job_title</th>\n",
       "      <th>job_industry_category</th>\n",
       "      <th>wealth_segment</th>\n",
       "      <th>deceased_indicator</th>\n",
       "      <th>...</th>\n",
       "      <th>brand</th>\n",
       "      <th>product_line</th>\n",
       "      <th>product_class</th>\n",
       "      <th>product_size</th>\n",
       "      <th>list_price</th>\n",
       "      <th>standard_cost</th>\n",
       "      <th>product_first_sold_date</th>\n",
       "      <th>Age</th>\n",
       "      <th>transaction_month</th>\n",
       "      <th>profit</th>\n",
       "    </tr>\n",
       "  </thead>\n",
       "  <tbody>\n",
       "    <tr>\n",
       "      <th>4636</th>\n",
       "      <td>3500</td>\n",
       "      <td>Josy</td>\n",
       "      <td>Fleeman</td>\n",
       "      <td>Female</td>\n",
       "      <td>71</td>\n",
       "      <td>1967-07-21</td>\n",
       "      <td>Administrative Officer</td>\n",
       "      <td>Entertainment</td>\n",
       "      <td>Affluent Customer</td>\n",
       "      <td>False</td>\n",
       "      <td>...</td>\n",
       "      <td>OHM Cycles</td>\n",
       "      <td>Standard</td>\n",
       "      <td>high</td>\n",
       "      <td>medium</td>\n",
       "      <td>1458.17</td>\n",
       "      <td>874.90</td>\n",
       "      <td>38750.0</td>\n",
       "      <td>53</td>\n",
       "      <td>7</td>\n",
       "      <td>583.27</td>\n",
       "    </tr>\n",
       "    <tr>\n",
       "      <th>4635</th>\n",
       "      <td>3500</td>\n",
       "      <td>Josy</td>\n",
       "      <td>Fleeman</td>\n",
       "      <td>Female</td>\n",
       "      <td>71</td>\n",
       "      <td>1967-07-21</td>\n",
       "      <td>Administrative Officer</td>\n",
       "      <td>Entertainment</td>\n",
       "      <td>Affluent Customer</td>\n",
       "      <td>False</td>\n",
       "      <td>...</td>\n",
       "      <td>WeareA2B</td>\n",
       "      <td>Standard</td>\n",
       "      <td>medium</td>\n",
       "      <td>medium</td>\n",
       "      <td>1228.07</td>\n",
       "      <td>400.91</td>\n",
       "      <td>36668.0</td>\n",
       "      <td>53</td>\n",
       "      <td>7</td>\n",
       "      <td>827.16</td>\n",
       "    </tr>\n",
       "    <tr>\n",
       "      <th>4634</th>\n",
       "      <td>3500</td>\n",
       "      <td>Josy</td>\n",
       "      <td>Fleeman</td>\n",
       "      <td>Female</td>\n",
       "      <td>71</td>\n",
       "      <td>1967-07-21</td>\n",
       "      <td>Administrative Officer</td>\n",
       "      <td>Entertainment</td>\n",
       "      <td>Affluent Customer</td>\n",
       "      <td>False</td>\n",
       "      <td>...</td>\n",
       "      <td>WeareA2B</td>\n",
       "      <td>Standard</td>\n",
       "      <td>medium</td>\n",
       "      <td>medium</td>\n",
       "      <td>60.34</td>\n",
       "      <td>45.26</td>\n",
       "      <td>34165.0</td>\n",
       "      <td>53</td>\n",
       "      <td>7</td>\n",
       "      <td>15.08</td>\n",
       "    </tr>\n",
       "    <tr>\n",
       "      <th>4633</th>\n",
       "      <td>3500</td>\n",
       "      <td>Josy</td>\n",
       "      <td>Fleeman</td>\n",
       "      <td>Female</td>\n",
       "      <td>71</td>\n",
       "      <td>1967-07-21</td>\n",
       "      <td>Administrative Officer</td>\n",
       "      <td>Entertainment</td>\n",
       "      <td>Affluent Customer</td>\n",
       "      <td>False</td>\n",
       "      <td>...</td>\n",
       "      <td>Giant Bicycles</td>\n",
       "      <td>Road</td>\n",
       "      <td>medium</td>\n",
       "      <td>medium</td>\n",
       "      <td>792.90</td>\n",
       "      <td>594.68</td>\n",
       "      <td>33879.0</td>\n",
       "      <td>53</td>\n",
       "      <td>7</td>\n",
       "      <td>198.22</td>\n",
       "    </tr>\n",
       "    <tr>\n",
       "      <th>4637</th>\n",
       "      <td>3500</td>\n",
       "      <td>Josy</td>\n",
       "      <td>Fleeman</td>\n",
       "      <td>Female</td>\n",
       "      <td>71</td>\n",
       "      <td>1967-07-21</td>\n",
       "      <td>Administrative Officer</td>\n",
       "      <td>Entertainment</td>\n",
       "      <td>Affluent Customer</td>\n",
       "      <td>False</td>\n",
       "      <td>...</td>\n",
       "      <td>Solex</td>\n",
       "      <td>Standard</td>\n",
       "      <td>medium</td>\n",
       "      <td>medium</td>\n",
       "      <td>71.49</td>\n",
       "      <td>53.62</td>\n",
       "      <td>41245.0</td>\n",
       "      <td>53</td>\n",
       "      <td>7</td>\n",
       "      <td>17.87</td>\n",
       "    </tr>\n",
       "  </tbody>\n",
       "</table>\n",
       "<p>5 rows × 32 columns</p>\n",
       "</div>"
      ],
      "text/plain": [
       "      customer_id first_name last_name  gender  \\\n",
       "4636         3500       Josy   Fleeman  Female   \n",
       "4635         3500       Josy   Fleeman  Female   \n",
       "4634         3500       Josy   Fleeman  Female   \n",
       "4633         3500       Josy   Fleeman  Female   \n",
       "4637         3500       Josy   Fleeman  Female   \n",
       "\n",
       "      past_3_years_bike_related_purchases        dob               job_title  \\\n",
       "4636                                   71 1967-07-21  Administrative Officer   \n",
       "4635                                   71 1967-07-21  Administrative Officer   \n",
       "4634                                   71 1967-07-21  Administrative Officer   \n",
       "4633                                   71 1967-07-21  Administrative Officer   \n",
       "4637                                   71 1967-07-21  Administrative Officer   \n",
       "\n",
       "     job_industry_category     wealth_segment  deceased_indicator  ...  \\\n",
       "4636         Entertainment  Affluent Customer               False  ...   \n",
       "4635         Entertainment  Affluent Customer               False  ...   \n",
       "4634         Entertainment  Affluent Customer               False  ...   \n",
       "4633         Entertainment  Affluent Customer               False  ...   \n",
       "4637         Entertainment  Affluent Customer               False  ...   \n",
       "\n",
       "               brand  product_line product_class  product_size list_price  \\\n",
       "4636      OHM Cycles      Standard          high        medium    1458.17   \n",
       "4635        WeareA2B      Standard        medium        medium    1228.07   \n",
       "4634        WeareA2B      Standard        medium        medium      60.34   \n",
       "4633  Giant Bicycles          Road        medium        medium     792.90   \n",
       "4637           Solex      Standard        medium        medium      71.49   \n",
       "\n",
       "     standard_cost  product_first_sold_date  Age  transaction_month  profit  \n",
       "4636        874.90                  38750.0   53                  7  583.27  \n",
       "4635        400.91                  36668.0   53                  7  827.16  \n",
       "4634         45.26                  34165.0   53                  7   15.08  \n",
       "4633        594.68                  33879.0   53                  7  198.22  \n",
       "4637         53.62                  41245.0   53                  7   17.87  \n",
       "\n",
       "[5 rows x 32 columns]"
      ]
     },
     "execution_count": 24,
     "metadata": {},
     "output_type": "execute_result"
    }
   ],
   "source": [
    "df.tail()"
   ]
  },
  {
   "cell_type": "code",
   "execution_count": 25,
   "metadata": {},
   "outputs": [
    {
     "data": {
      "image/png": "[encoded data removed]",
      "text/plain": [
       "<Figure size 864x576 with 1 Axes>"
      ]
     },
     "metadata": {
      "needs_background": "light"
     },
     "output_type": "display_data"
    }
   ],
   "source": [
    "#Data visualisation\n",
    "plt.figure(figsize = (12,8))\n",
    "plt.hist(df['Age'], color = 'skyblue', edgecolor = 'white', bins = 5)\n",
    "plt.title('Age distribution histogram')\n",
    "plt.xlabel('Age')\n",
    "plt.ylabel('Frequency')\n",
    "plt.savefig('age_dist_histogram.png')\n",
    "plt.show()"
   ]
  },
  {
   "cell_type": "code",
   "execution_count": 26,
   "metadata": {},
   "outputs": [
    {
     "data": {
      "image/png": "[encoded data removed]",
      "text/plain": [
       "<Figure size 432x288 with 1 Axes>"
      ]
     },
     "metadata": {
      "needs_background": "light"
     },
     "output_type": "display_data"
    }
   ],
   "source": [
    "sn.countplot(x = 'gender', data = df)\n",
    "plt.show()"
   ]
  },
  {
   "cell_type": "code",
   "execution_count": 27,
   "metadata": {},
   "outputs": [
    {
     "data": {
      "image/png": "[encoded data removed]",
      "text/plain": [
       "<Figure size 1152x576 with 1 Axes>"
      ]
     },
     "metadata": {
      "needs_background": "light"
     },
     "output_type": "display_data"
    }
   ],
   "source": [
    "plt.figure(figsize = (16,8))\n",
    "sn.countplot(x='job_industry_category', data = df)\n",
    "plt.show()"
   ]
  },
  {
   "cell_type": "code",
   "execution_count": 28,
   "metadata": {},
   "outputs": [
    {
     "data": {
      "image/png": "[encoded data removed]",
      "text/plain": [
       "<Figure size 1152x576 with 1 Axes>"
      ]
     },
     "metadata": {
      "needs_background": "light"
     },
     "output_type": "display_data"
    }
   ],
   "source": [
    "plt.figure(figsize = (16,8))\n",
    "sn.countplot(x='job_industry_category', data=df, hue='gender')\n",
    "plt.legend(title='Gender', loc='upper right', fancybox=True)\n",
    "plt.show()"
   ]
  },
  {
   "cell_type": "code",
   "execution_count": 29,
   "metadata": {},
   "outputs": [
    {
     "data": {
      "image/png": "[encoded data removed]",
      "text/plain": [
       "<Figure size 864x576 with 1 Axes>"
      ]
     },
     "metadata": {
      "needs_background": "light"
     },
     "output_type": "display_data"
    }
   ],
   "source": [
    "plt.figure(figsize = (12,8))\n",
    "sn.countplot(x = 'wealth_segment', data = df)\n",
    "plt.title('Wealth segment distribution')\n",
    "plt.xlabel('Wealth segment')\n",
    "plt.ylabel('Frequency')\n",
    "plt.show()"
   ]
  },
  {
   "cell_type": "code",
   "execution_count": 30,
   "metadata": {},
   "outputs": [
    {
     "data": {
      "image/png": "[encoded data removed]",
      "text/plain": [
       "<Figure size 864x576 with 1 Axes>"
      ]
     },
     "metadata": {
      "needs_background": "light"
     },
     "output_type": "display_data"
    }
   ],
   "source": [
    "plt.figure(figsize = (12,8))\n",
    "sn.countplot(x='gender', data=df, hue='owns_car')\n",
    "plt.legend(title='Owns car', loc='upper right', fancybox=True)\n",
    "plt.savefig('owns_car.png')\n",
    "plt.show()"
   ]
  },
  {
   "cell_type": "code",
   "execution_count": 31,
   "metadata": {},
   "outputs": [
    {
     "data": {
      "image/png": "[encoded data removed]",
      "text/plain": [
       "<Figure size 864x576 with 1 Axes>"
      ]
     },
     "metadata": {
      "needs_background": "light"
     },
     "output_type": "display_data"
    }
   ],
   "source": [
    "plt.figure(figsize = (12,8))\n",
    "sn.countplot(x='gender', data=df, hue='wealth_segment')\n",
    "plt.legend(title='Wealth Segment', loc='upper right', fancybox=True)\n",
    "plt.show()"
   ]
  },
  {
   "cell_type": "code",
   "execution_count": 40,
   "metadata": {},
   "outputs": [
    {
     "data": {
      "text/plain": [
       "<Figure size 1152x576 with 0 Axes>"
      ]
     },
     "metadata": {},
     "output_type": "display_data"
    },
    {
     "data": {
      "image/png": "[encoded data removed]",
      "text/plain": [
       "<Figure size 486.75x360 with 1 Axes>"
      ]
     },
     "metadata": {
      "needs_background": "light"
     },
     "output_type": "display_data"
    }
   ],
   "source": [
    "plt.figure(figsize = (16,8))\n",
    "sn.displot(x='Age', binwidth=10, data=df, hue='wealth_segment')\n",
    "plt.show()"
   ]
  },
  {
   "cell_type": "code",
   "execution_count": 33,
   "metadata": {},
   "outputs": [
    {
     "data": {
      "image/png": "[encoded data removed]",
      "text/plain": [
       "<Figure size 864x576 with 1 Axes>"
      ]
     },
     "metadata": {
      "needs_background": "light"
     },
     "output_type": "display_data"
    }
   ],
   "source": [
    "plt.figure(figsize = (12,8))\n",
    "sn.countplot(x='state', data=df, hue='wealth_segment')\n",
    "plt.legend(title='Wealth segment', loc='upper right', fancybox=True)\n",
    "plt.show()"
   ]
  },
  {
   "cell_type": "code",
   "execution_count": 34,
   "metadata": {},
   "outputs": [
    {
     "data": {
      "image/png": "[encoded data removed]",
      "text/plain": [
       "<Figure size 1152x576 with 1 Axes>"
      ]
     },
     "metadata": {
      "needs_background": "light"
     },
     "output_type": "display_data"
    }
   ],
   "source": [
    "plt.figure(figsize=(16,8))\n",
    "sn.countplot(x='gender', data=df, hue='job_industry_category')\n",
    "plt.legend(title='Job industry category', loc='upper right', fancybox=True)\n",
    "plt.show()"
   ]
  },
  {
   "cell_type": "code",
   "execution_count": 35,
   "metadata": {},
   "outputs": [
    {
     "data": {
      "image/png": "[encoded data removed]",
      "text/plain": [
       "<Figure size 1152x576 with 1 Axes>"
      ]
     },
     "metadata": {
      "needs_background": "light"
     },
     "output_type": "display_data"
    }
   ],
   "source": [
    "plt.figure(figsize = (16,8))\n",
    "sn.countplot(x='gender', data=df, hue='state')\n",
    "plt.legend(title='State', loc='upper right', fancybox=True)\n",
    "plt.show()"
   ]
  },
  {
   "cell_type": "code",
   "execution_count": 36,
   "metadata": {},
   "outputs": [
    {
     "data": {
      "image/png": "[encoded data removed]",
      "text/plain": [
       "<Figure size 864x576 with 1 Axes>"
      ]
     },
     "metadata": {
      "needs_background": "light"
     },
     "output_type": "display_data"
    }
   ],
   "source": [
    "plt.figure(figsize = (12,8))\n",
    "sn.countplot(x = 'state', data = df, hue = 'gender')\n",
    "plt.legend(title='State', loc='upper right', fancybox=True)\n",
    "plt.savefig('states.png')\n",
    "plt.show()"
   ]
  },
  {
   "cell_type": "code",
   "execution_count": 37,
   "metadata": {},
   "outputs": [
    {
     "data": {
      "image/png": "[encoded data removed]",
      "text/plain": [
       "<Figure size 864x576 with 1 Axes>"
      ]
     },
     "metadata": {
      "needs_background": "light"
     },
     "output_type": "display_data"
    }
   ],
   "source": [
    "plt.figure(figsize = (12,8))\n",
    "sn.countplot(x = 'state', data = df, hue = 'owns_car')\n",
    "plt.legend(title='State', loc='upper right', fancybox=True)\n",
    "plt.show()"
   ]
  },
  {
   "cell_type": "code",
   "execution_count": 38,
   "metadata": {},
   "outputs": [
    {
     "data": {
      "image/png": "[encoded data removed]",
      "text/plain": [
       "<Figure size 864x576 with 1 Axes>"
      ]
     },
     "metadata": {
      "needs_background": "light"
     },
     "output_type": "display_data"
    }
   ],
   "source": [
    "plt.figure(figsize = (12,8))\n",
    "sn.boxplot(x = df['gender'], y = df['Age'])\n",
    "plt.savefig('age_boxplot.png')\n",
    "plt.show()"
   ]
  },
  {
   "cell_type": "code",
   "execution_count": 39,
   "metadata": {},
   "outputs": [
    {
     "data": {
      "image/png": "[encoded data removed]",
      "text/plain": [
       "<Figure size 432x288 with 1 Axes>"
      ]
     },
     "metadata": {
      "needs_background": "light"
     },
     "output_type": "display_data"
    }
   ],
   "source": [
    "plt.scatter(df['profit'], df['transaction_month'], alpha=0.5)\n",
    "colors=np.random.rand()\n",
    "plt.show()"
   ]
  },
  {
   "cell_type": "code",
   "execution_count": null,
   "metadata": {},
   "outputs": [],
   "source": []
  }
 ],
 "metadata": {
  "kernelspec": {
   "display_name": "Python 3",
   "language": "python",
   "name": "python3"
  },
  "language_info": {
   "codemirror_mode": {
    "name": "ipython",
    "version": 3
   },
   "file_extension": ".py",
   "mimetype": "text/x-python",
   "name": "python",
   "nbconvert_exporter": "python",
   "pygments_lexer": "ipython3",
   "version": "3.7.7"
  }
 },
 "nbformat": 4,
 "nbformat_minor": 4
}
